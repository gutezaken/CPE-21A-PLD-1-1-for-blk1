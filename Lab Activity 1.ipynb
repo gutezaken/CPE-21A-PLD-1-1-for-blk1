{
  "nbformat": 4,
  "nbformat_minor": 0,
  "metadata": {
    "colab": {
      "provenance": [],
      "authorship_tag": "ABX9TyNyO+4QsrnlnJZLxvmHUDFU",
      "include_colab_link": true
    },
    "kernelspec": {
      "name": "python3",
      "display_name": "Python 3"
    },
    "language_info": {
      "name": "python"
    }
  },
  "cells": [
    {
      "cell_type": "markdown",
      "metadata": {
        "id": "view-in-github",
        "colab_type": "text"
      },
      "source": [
        "<a href=\"https://colab.research.google.com/github/gutezaken/CPE-21A-PLD-1-1-for-blk1/blob/main/Lab%20Activity%201.ipynb\" target=\"_parent\"><img src=\"https://colab.research.google.com/assets/colab-badge.svg\" alt=\"Open In Colab\"/></a>"
      ]
    },
    {
      "cell_type": "markdown",
      "source": [
        "Problem 1"
      ],
      "metadata": {
        "id": "-Xo51zyGJV8R"
      }
    },
    {
      "cell_type": "code",
      "execution_count": 10,
      "metadata": {
        "colab": {
          "base_uri": "https://localhost:8080/"
        },
        "id": "wB3lZ6Umo3W8",
        "outputId": "5beb74d7-5ff2-4b0c-8d60-cda75b51e28a"
      },
      "outputs": [
        {
          "output_type": "stream",
          "name": "stdout",
          "text": [
            "sum 210\n",
            "average 10.5\n"
          ]
        }
      ],
      "source": [
        "\n",
        "\n",
        "n=20\n",
        "totalnumbers=n\n",
        "sum=0\n",
        "average=0\n",
        "\n",
        "while n >= 0:\n",
        "  sum += n\n",
        "  n -= 1\n",
        "\n",
        "print(\"sum\", sum) \n",
        "\n",
        "average=sum/totalnumbers\n",
        "\n",
        "print(\"average\", average)  \n",
        "\n"
      ]
    },
    {
      "cell_type": "markdown",
      "source": [
        "Problem 2"
      ],
      "metadata": {
        "id": "lE91a6VSJZ1a"
      }
    },
    {
      "cell_type": "code",
      "source": [
        "class Student:\n",
        "  def __init__(self,name,student_no,age,school,course):\n",
        "     self.name = name \n",
        "     self.student_no = student_no\n",
        "     self.age = age\n",
        "     self.school = school\n",
        "     self.course = course\n",
        "\n",
        "student = Student(\"Ken Andrie Guteza\", 202202843, 19,\"Cavite State University Indang Campus\",\"BSCpE\") \n",
        "print(\"My name is\", student.name)\n",
        "print(\"My student number is\", student.student_no)\n",
        "print(\"I am\", student.age,\"years old\") \n",
        "print(\"My school is\", student.school) \n",
        "print(\"I took the course\", student.course) \n",
        "\n",
        "     \n"
      ],
      "metadata": {
        "colab": {
          "base_uri": "https://localhost:8080/"
        },
        "id": "_gSWvJLnJbTI",
        "outputId": "00a782ac-73d0-408f-8bf5-87c5e206d423"
      },
      "execution_count": 39,
      "outputs": [
        {
          "output_type": "stream",
          "name": "stdout",
          "text": [
            "My name is Ken Andrie Guteza\n",
            "My student number is 202202843\n",
            "I am 19 years old\n",
            "My school is Cavite State University Indang Campus\n",
            "I took the course BSCpE\n"
          ]
        }
      ]
    }
  ]
}