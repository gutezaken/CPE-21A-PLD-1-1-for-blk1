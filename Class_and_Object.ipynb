{
  "nbformat": 4,
  "nbformat_minor": 0,
  "metadata": {
    "colab": {
      "provenance": [],
      "authorship_tag": "ABX9TyMdR0Fq2rCNCOPcTppzw+lN",
      "include_colab_link": true
    },
    "kernelspec": {
      "name": "python3",
      "display_name": "Python 3"
    },
    "language_info": {
      "name": "python"
    }
  },
  "cells": [
    {
      "cell_type": "markdown",
      "metadata": {
        "id": "view-in-github",
        "colab_type": "text"
      },
      "source": [
        "<a href=\"https://colab.research.google.com/github/gutezaken/CPE-21A-PLD-1-1-for-blk1/blob/main/Class_and_Object.ipynb\" target=\"_parent\"><img src=\"https://colab.research.google.com/assets/colab-badge.svg\" alt=\"Open In Colab\"/></a>"
      ]
    },
    {
      "cell_type": "code",
      "execution_count": 4,
      "metadata": {
        "id": "_xihkDTylq6j",
        "colab": {
          "base_uri": "https://localhost:8080/"
        },
        "outputId": "a20b0794-36ff-405a-ca85-35f417411a68"
      },
      "outputs": [
        {
          "output_type": "stream",
          "name": "stdout",
          "text": [
            "The area of a rectangle is 50\n",
            "The perimeter of a rectangle is 30\n",
            "The area of a rectangle is 50\n",
            "The perimeter of a rectangle is 30\n"
          ]
        }
      ],
      "source": [
        "class Shape:\n",
        "  def __init__(self, length, width):\n",
        "     self.length = length\n",
        "     self.width = width\n",
        "  \n",
        "  def Area(self):\n",
        "    return self.length * self.width\n",
        "\n",
        "  def Perimeter(self):\n",
        "    return (self.length + self.width)*2\n",
        "\n",
        "  def display(self):\n",
        "    print(\"The area of a rectangle is\", self.Area())\n",
        "    print(\"The perimeter of a rectangle is\", self.Perimeter())   \n",
        "\n",
        "\n",
        "class Rectangle(Shape):\n",
        "  pass \n",
        "\n",
        "rectangle = Shape(10, 5)\n",
        "rectangle2 = Rectangle(10, 5) \n",
        "\n",
        "rectangle.display()\n",
        "rectangle2.display()"
      ]
    }
  ]
}