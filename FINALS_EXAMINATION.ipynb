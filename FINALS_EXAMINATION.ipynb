{
  "nbformat": 4,
  "nbformat_minor": 0,
  "metadata": {
    "colab": {
      "provenance": [],
      "authorship_tag": "ABX9TyMwwAAIjRvXUY/saCeZ2+hS",
      "include_colab_link": true
    },
    "kernelspec": {
      "name": "python3",
      "display_name": "Python 3"
    },
    "language_info": {
      "name": "python"
    }
  },
  "cells": [
    {
      "cell_type": "markdown",
      "metadata": {
        "id": "view-in-github",
        "colab_type": "text"
      },
      "source": [
        "<a href=\"https://colab.research.google.com/github/gutezaken/CPE-21A-PLD-1-1-for-blk1/blob/main/FINALS_EXAMINATION.ipynb\" target=\"_parent\"><img src=\"https://colab.research.google.com/assets/colab-badge.svg\" alt=\"Open In Colab\"/></a>"
      ]
    },
    {
      "cell_type": "code",
      "source": [
        "class Shape:\n",
        "\n",
        "   def triangle(self):\n",
        "\n",
        "     return \"4 sides are equal\"\n",
        "\n",
        "   def rectangle(self):\n",
        "\n",
        "    return \"2 sides are equal\"\n",
        "\n",
        "\n",
        "\n",
        "class Polygon(Shape):\n",
        "\n",
        "  def triangle(self):\n",
        "\n",
        "    return \"has edges and vertices\"\n",
        "\n",
        "\n",
        "\n",
        "object = Polygon()\n",
        "\n",
        "object.triangle()"
      ],
      "metadata": {
        "colab": {
          "base_uri": "https://localhost:8080/",
          "height": 36
        },
        "id": "ElZX0V2YKmSJ",
        "outputId": "918c49d8-fd8c-45c8-8bb1-2911e3d28833"
      },
      "execution_count": null,
      "outputs": [
        {
          "output_type": "execute_result",
          "data": {
            "text/plain": [
              "'has edges and vertices'"
            ],
            "application/vnd.google.colaboratory.intrinsic+json": {
              "type": "string"
            }
          },
          "metadata": {},
          "execution_count": 1
        }
      ]
    },
    {
      "cell_type": "code",
      "source": [
        "class Shape:\n",
        "\n",
        "   def square(self):\n",
        "\n",
        "     return \"4 sides are equal\"\n",
        "\n",
        "   def rectangle(self):\n",
        "\n",
        "    return \"2 sides are equal\"\n",
        "\n",
        "\n",
        "\n",
        "class Polygon(Shape):\n",
        "\n",
        "  def triangle(self):\n",
        "\n",
        "    return \"3 sides\"\n",
        "\n",
        "\n",
        "\n",
        "object = Polygon()\n",
        "\n",
        "object.square()"
      ],
      "metadata": {
        "colab": {
          "base_uri": "https://localhost:8080/",
          "height": 36
        },
        "id": "af_p8K4AK1MM",
        "outputId": "f567a256-6e83-431a-aeaf-db5071a10d9e"
      },
      "execution_count": null,
      "outputs": [
        {
          "output_type": "execute_result",
          "data": {
            "text/plain": [
              "'4 sides are equal'"
            ],
            "application/vnd.google.colaboratory.intrinsic+json": {
              "type": "string"
            }
          },
          "metadata": {},
          "execution_count": 2
        }
      ]
    },
    {
      "cell_type": "code",
      "source": [
        " x=1 \n",
        " x<<2"
      ],
      "metadata": {
        "colab": {
          "base_uri": "https://localhost:8080/"
        },
        "id": "Kd5GpL7XK-10",
        "outputId": "ee256d3d-0113-4378-8478-2bbbdf425ef7"
      },
      "execution_count": null,
      "outputs": [
        {
          "output_type": "execute_result",
          "data": {
            "text/plain": [
              "4"
            ]
          },
          "metadata": {},
          "execution_count": 9
        }
      ]
    }
  ]
}