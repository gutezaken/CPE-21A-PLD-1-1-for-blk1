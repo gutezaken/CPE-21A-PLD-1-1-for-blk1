{
  "nbformat": 4,
  "nbformat_minor": 0,
  "metadata": {
    "colab": {
      "provenance": [],
      "authorship_tag": "ABX9TyPzs6tjvGtd/5AqLKNcUk42",
      "include_colab_link": true
    },
    "kernelspec": {
      "name": "python3",
      "display_name": "Python 3"
    },
    "language_info": {
      "name": "python"
    }
  },
  "cells": [
    {
      "cell_type": "markdown",
      "metadata": {
        "id": "view-in-github",
        "colab_type": "text"
      },
      "source": [
        "<a href=\"https://colab.research.google.com/github/gutezaken/CPE-21A-PLD-1-1-for-blk1/blob/main/Nested_If_Else.ipynb\" target=\"_parent\"><img src=\"https://colab.research.google.com/assets/colab-badge.svg\" alt=\"Open In Colab\"/></a>"
      ]
    },
    {
      "cell_type": "code",
      "execution_count": null,
      "metadata": {
        "id": "auGvgnEVo8IO"
      },
      "outputs": [],
      "source": []
    },
    {
      "cell_type": "markdown",
      "source": [
        "##Discussion example:\n",
        "\n"
      ],
      "metadata": {
        "id": "py2LvD4Jo-J_"
      }
    },
    {
      "cell_type": "code",
      "source": [
        "x = 41\n",
        "if x>10:\n",
        "  print(\"above ten\")\n",
        "  if x>20:\n",
        "    print(\"above twenty\")\n",
        "  else:\n",
        "    print(\"below twenty\")\n",
        "  if x>30:\n",
        "    print(\"above thirty\")\n",
        "  else:\n",
        "    print(\"below thirty\")\n",
        "  if x>40:\n",
        "    print(\"above forty\")\n",
        "  else:\n",
        "    print(\"below forty\")\n",
        "  if x>50:\n",
        "    print(\"above fifty\")\n",
        "  else:\n",
        "    print(\"below fifty\")  \n",
        "else:\n",
        "  print(\"not above ten\")\n"
      ],
      "metadata": {
        "colab": {
          "base_uri": "https://localhost:8080/"
        },
        "id": "QzL1sM03pCI2",
        "outputId": "27590942-7c23-4421-c52a-84678d166b5c"
      },
      "execution_count": 5,
      "outputs": [
        {
          "output_type": "stream",
          "name": "stdout",
          "text": [
            "above ten\n",
            "above twenty\n",
            "above thirty\n",
            "above forty\n",
            "below fifty\n"
          ]
        }
      ]
    },
    {
      "cell_type": "markdown",
      "source": [
        "**Example 1:**"
      ],
      "metadata": {
        "id": "9PdurWolhMsu"
      }
    },
    {
      "cell_type": "code",
      "source": [
        "age = int(input(\"Enter your age: \"))\n",
        "\n",
        "if age >= 18:\n",
        "   print(\"Qualified to vote.\")\n",
        "else:\n",
        "   print(\"Not yet qualified to vote.\")   \n"
      ],
      "metadata": {
        "id": "73tQ_v98liv2",
        "colab": {
          "base_uri": "https://localhost:8080/"
        },
        "outputId": "ec95b00d-8874-4b5e-f97a-4a26fcb304e4"
      },
      "execution_count": 88,
      "outputs": [
        {
          "output_type": "stream",
          "name": "stdout",
          "text": [
            "Enter your age: 17\n",
            "Not yet qualified to vote.\n"
          ]
        }
      ]
    },
    {
      "cell_type": "markdown",
      "source": [
        "**Example 2:**\n"
      ],
      "metadata": {
        "id": "QNz6tkcroSxm"
      }
    },
    {
      "cell_type": "code",
      "source": [
        "number = int(input(\"Enter a number: \"))\n",
        "\n",
        "if number > 0:\n",
        "   print(\"positive number\")\n",
        "elif number == 0:\n",
        "   print(\"positive number\")   \n",
        "else:\n",
        "   print(\"negative number\")   \n",
        "\n",
        "\n",
        "\n"
      ],
      "metadata": {
        "colab": {
          "base_uri": "https://localhost:8080/"
        },
        "id": "suVdnRfYoUWl",
        "outputId": "4680e165-acea-4b8f-ec2f-0b766452852c"
      },
      "execution_count": 87,
      "outputs": [
        {
          "output_type": "stream",
          "name": "stdout",
          "text": [
            "Enter a number: 1\n",
            "positive number\n"
          ]
        }
      ]
    },
    {
      "cell_type": "markdown",
      "source": [
        "**Example 3:**\n"
      ],
      "metadata": {
        "id": "sR5n4gPrXSC9"
      }
    },
    {
      "cell_type": "code",
      "source": [
        "grade = int(input(\"Enter your grade: \"))\n",
        "\n",
        "if grade >= 75:\n",
        "  print(\"passed\")\n",
        "elif grade == 74:\n",
        "  print(\"remedial\")\n",
        "elif grade >= 0:\n",
        "  print(\"failed\")\n",
        "else:\n",
        "  print(\"not accepted\")\n",
        "  \n",
        "  \n",
        "       \n",
        "\n",
        "\n",
        "\n",
        "\n",
        "\n"
      ],
      "metadata": {
        "colab": {
          "base_uri": "https://localhost:8080/"
        },
        "id": "rY4UWm4wXUPm",
        "outputId": "ca9b76a0-c5a2-4e4f-97d9-19d12f73ee23"
      },
      "execution_count": 84,
      "outputs": [
        {
          "output_type": "stream",
          "name": "stdout",
          "text": [
            "Enter your grade: -9\n",
            "not accepted\n"
          ]
        }
      ]
    }
  ]
}